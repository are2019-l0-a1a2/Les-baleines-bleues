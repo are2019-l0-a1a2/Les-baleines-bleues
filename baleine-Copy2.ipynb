{
 "cells": [
  {
   "cell_type": "code",
   "execution_count": 6,
   "metadata": {},
   "outputs": [],
   "source": [
    "%matplotlib inline     \n",
    "# ^Sans animations\n",
    "# %matplotlib notebook \n",
    "# ^Avec animations\n",
    "import numpy as np\n",
    "import matplotlib.pyplot as plt\n",
    "from matplotlib import animation\n"
   ]
  },
  {
   "cell_type": "markdown",
   "metadata": {},
   "source": [
    "**Espèce menacée : la Baleine bleue**"
   ]
  },
  {
   "cell_type": "code",
   "execution_count": 11,
   "metadata": {},
   "outputs": [],
   "source": [
    "#Dictionnaire de la distribution des baleines bleues\n",
    "#Population de base réparti dans l'hémisphère sud PB population femelle Pf\n",
    "Pb = 2300\n",
    "Pf = 1150\n",
    "#Population dans l'océan Atlantique A0\n",
    "A0 = 920\n",
    "#Population dans l'océan Pacifique P0\n",
    "P0 = 1150\n",
    "#Population dans l'ocean Indien I0\n",
    "I0 = 230\n",
    "\n",
    "n = 20\n",
    "\n",
    "#une génération dure 100 ans\n",
    "#Il y a à peu près 26 enfants par générations\n"
   ]
  },
  {
   "cell_type": "code",
   "execution_count": null,
   "metadata": {},
   "outputs": [],
   "source": []
  },
  {
   "cell_type": "code",
   "execution_count": 12,
   "metadata": {},
   "outputs": [],
   "source": [
    "def number_of_descendants(p):\n",
    "    '''\n",
    "    dict[int:float]->int\n",
    "    Étant donnée une distibution de probabilité 'p', la fonction retourne le nombre de descendants d'un individu.\n",
    "    '''\n",
    "    u = np.random.random()\n",
    "    s = 0\n",
    "    for k in p.keys():\n",
    "        s += p[k]\n",
    "        if u < s:\n",
    "            return k             -> not sur"
   ]
  },
  {
   "cell_type": "code",
   "execution_count": 21,
   "metadata": {},
   "outputs": [
    {
     "data": {
      "text/plain": [
       "1760"
      ]
     },
     "execution_count": 21,
     "metadata": {},
     "output_type": "execute_result"
    }
   ],
   "source": [
    "\n",
    "def update_population(n,Pf):\n",
    "    '''int*int -> int\n",
    "    retourne la population de baleine à n génération'''\n",
    "    \n",
    "    c = 23\n",
    "    \n",
    "    return Pf+(c*n)\n",
    "\n",
    "update_population(n,Pf)"
   ]
  },
  {
   "cell_type": "code",
   "execution_count": null,
   "metadata": {},
   "outputs": [],
   "source": []
  }
 ],
 "metadata": {
  "kernelspec": {
   "display_name": "Python 3",
   "language": "python",
   "name": "python3"
  },
  "language_info": {
   "codemirror_mode": {
    "name": "ipython",
    "version": 3
   },
   "file_extension": ".py",
   "mimetype": "text/x-python",
   "name": "python",
   "nbconvert_exporter": "python",
   "pygments_lexer": "ipython3",
   "version": "3.5.3"
  }
 },
 "nbformat": 4,
 "nbformat_minor": 2
}
